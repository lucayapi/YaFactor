{
 "cells": [
  {
   "cell_type": "code",
   "execution_count": 2,
   "metadata": {},
   "outputs": [],
   "source": [
    "import pandas as pd\n",
    "import prince\n",
    "from sklearn import datasets"
   ]
  },
  {
   "cell_type": "code",
   "execution_count": 3,
   "metadata": {},
   "outputs": [
    {
     "data": {
      "text/html": [
       "<div>\n",
       "<style scoped>\n",
       "    .dataframe tbody tr th:only-of-type {\n",
       "        vertical-align: middle;\n",
       "    }\n",
       "\n",
       "    .dataframe tbody tr th {\n",
       "        vertical-align: top;\n",
       "    }\n",
       "\n",
       "    .dataframe thead th {\n",
       "        text-align: right;\n",
       "    }\n",
       "</style>\n",
       "<table border=\"1\" class=\"dataframe\">\n",
       "  <thead>\n",
       "    <tr style=\"text-align: right;\">\n",
       "      <th></th>\n",
       "      <th>Sepal length</th>\n",
       "      <th>Sepal width</th>\n",
       "      <th>Petal length</th>\n",
       "      <th>Petal width</th>\n",
       "    </tr>\n",
       "  </thead>\n",
       "  <tbody>\n",
       "    <tr>\n",
       "      <th>0</th>\n",
       "      <td>5.1</td>\n",
       "      <td>3.5</td>\n",
       "      <td>1.4</td>\n",
       "      <td>0.2</td>\n",
       "    </tr>\n",
       "    <tr>\n",
       "      <th>1</th>\n",
       "      <td>4.9</td>\n",
       "      <td>3.0</td>\n",
       "      <td>1.4</td>\n",
       "      <td>0.2</td>\n",
       "    </tr>\n",
       "    <tr>\n",
       "      <th>2</th>\n",
       "      <td>4.7</td>\n",
       "      <td>3.2</td>\n",
       "      <td>1.3</td>\n",
       "      <td>0.2</td>\n",
       "    </tr>\n",
       "    <tr>\n",
       "      <th>3</th>\n",
       "      <td>4.6</td>\n",
       "      <td>3.1</td>\n",
       "      <td>1.5</td>\n",
       "      <td>0.2</td>\n",
       "    </tr>\n",
       "    <tr>\n",
       "      <th>4</th>\n",
       "      <td>5.0</td>\n",
       "      <td>3.6</td>\n",
       "      <td>1.4</td>\n",
       "      <td>0.2</td>\n",
       "    </tr>\n",
       "  </tbody>\n",
       "</table>\n",
       "</div>"
      ],
      "text/plain": [
       "   Sepal length  Sepal width  Petal length  Petal width\n",
       "0           5.1          3.5           1.4          0.2\n",
       "1           4.9          3.0           1.4          0.2\n",
       "2           4.7          3.2           1.3          0.2\n",
       "3           4.6          3.1           1.5          0.2\n",
       "4           5.0          3.6           1.4          0.2"
      ]
     },
     "execution_count": 3,
     "metadata": {},
     "output_type": "execute_result"
    }
   ],
   "source": [
    "X,y = datasets.load_iris(return_X_y=True)\n",
    "X = pd.DataFrame(data=X,columns=['Sepal length','Sepal width', 'Petal length', 'Petal width'])\n",
    "y = pd.Series(y).map({0: 'Setosa', 1: 'Versicolor', 2: 'Virginica'})\n",
    "X.head()"
   ]
  },
  {
   "cell_type": "code",
   "execution_count": 41,
   "metadata": {},
   "outputs": [],
   "source": [
    "class PrinceException(Exception): \n",
    "    def __init__(self, msg, ):\n",
    "        super().__init__(msg) \n",
    "\n",
    "\n",
    "def checkinstance(pca):\n",
    "    if isinstance(pca,prince.pca.PCA)==False:\n",
    "        raise PrinceException(\"not a prince.PCA class\")\n",
    "\n",
    "\n",
    "def get_pca_ind(pca,X):\n",
    "    checkinstance(pca)\n",
    "    results={}\n",
    "    # coord,cos2, contrib\n",
    "    results[\"coord\"]=pca.row_coordinates(X)\n",
    "    results[\"cos2\"]=pca.row_cosine_similarities(X)\n",
    "    results[\"contrib\"]=pca.row_contributions(X)\n",
    "\n",
    "    return results\n",
    "\n",
    "\n",
    "def get_pca_var(pca,X):\n",
    "    checkinstance(pca)\n",
    "    results={}\n",
    "    # coord, cor, cos2, contrib\n",
    "    results[\"coord\"]=pca.column_correlations(X)\n",
    "    results[\"cor\"]=pca.column_correlations(X)\n",
    "    results[\"cos2\"]=results[\"cor\"]**2\n",
    "    results[\"contrib\"]=results[\"cos2\"]**100/results[\"cos2\"].sum(axis=0)\n",
    "    return results\n",
    "\n",
    "\n",
    "def get_pca(pca,X,element=\"ind\"):\n",
    "    if element == \"ind\":\n",
    "        results=get_pca_ind(pca,X)\n",
    "    elif element==\"var\":\n",
    "        results=get_pca_var(pca,X)\n",
    "    return results\n",
    "\n",
    "\n",
    "\n"
   ]
  },
  {
   "cell_type": "code",
   "execution_count": 32,
   "metadata": {},
   "outputs": [],
   "source": [
    "pca = prince.PCA(\n",
    "        n_components=2,\n",
    "        n_iter=3,\n",
    "        rescale_with_mean=True,\n",
    "        rescale_with_std=True,\n",
    "        copy=True,\n",
    "        check_input=True,\n",
    "        engine='auto',\n",
    "        random_state=42\n",
    "        )\n",
    "pca = pca.fit(X)"
   ]
  },
  {
   "cell_type": "code",
   "execution_count": 34,
   "metadata": {},
   "outputs": [
    {
     "data": {
      "text/plain": [
       "dict_keys(['coord', 'cos2', 'contrib'])"
      ]
     },
     "execution_count": 34,
     "metadata": {},
     "output_type": "execute_result"
    }
   ],
   "source": [
    "res=get_pca_ind(pca,X)\n",
    "res.keys()\n"
   ]
  },
  {
   "cell_type": "code",
   "execution_count": 42,
   "metadata": {},
   "outputs": [
    {
     "data": {
      "text/plain": [
       "{'coord':             0         1\n",
       " 0   -2.264703  0.480027\n",
       " 1   -2.080961 -0.674134\n",
       " 2   -2.364229 -0.341908\n",
       " 3   -2.299384 -0.597395\n",
       " 4   -2.389842  0.646835\n",
       " ..        ...       ...\n",
       " 145  1.870503  0.386966\n",
       " 146  1.564580 -0.896687\n",
       " 147  1.521170  0.269069\n",
       " 148  1.372788  1.011254\n",
       " 149  0.960656 -0.024332\n",
       " \n",
       " [150 rows x 2 columns],\n",
       " 'cos2':             0         1\n",
       " 0    0.957005  0.042995\n",
       " 1    0.905022  0.094978\n",
       " 2    0.979514  0.020486\n",
       " 3    0.936769  0.063231\n",
       " 4    0.931743  0.068257\n",
       " ..        ...       ...\n",
       " 145  0.958958  0.041042\n",
       " 146  0.752750  0.247250\n",
       " 147  0.969662  0.030338\n",
       " 148  0.648238  0.351762\n",
       " 149  0.999359  0.000641\n",
       " \n",
       " [150 rows x 2 columns],\n",
       " 'contrib':             0         1\n",
       " 0    1.757369  0.252098\n",
       " 1    1.483777  0.497200\n",
       " 2    1.915225  0.127896\n",
       " 3    1.811606  0.390447\n",
       " 4    1.956947  0.457748\n",
       " ..        ...       ...\n",
       " 145  1.198830  0.163827\n",
       " 146  0.838758  0.879672\n",
       " 147  0.792860  0.079208\n",
       " 148  0.645725  1.118820\n",
       " 149  0.316211  0.000648\n",
       " \n",
       " [150 rows x 2 columns]}"
      ]
     },
     "execution_count": 42,
     "metadata": {},
     "output_type": "execute_result"
    }
   ],
   "source": [
    "res=get_pca(pca,X)\n",
    "res"
   ]
  },
  {
   "cell_type": "code",
   "execution_count": null,
   "metadata": {},
   "outputs": [],
   "source": []
  }
 ],
 "metadata": {
  "interpreter": {
   "hash": "6d3059ec050b57c207e367ff91d648997e83ddfa5d89936ee6c7b54af5a142b7"
  },
  "kernelspec": {
   "display_name": "Python 3.8.8 ('base')",
   "language": "python",
   "name": "python3"
  },
  "language_info": {
   "codemirror_mode": {
    "name": "ipython",
    "version": 3
   },
   "file_extension": ".py",
   "mimetype": "text/x-python",
   "name": "python",
   "nbconvert_exporter": "python",
   "pygments_lexer": "ipython3",
   "version": "3.8.8"
  },
  "orig_nbformat": 4
 },
 "nbformat": 4,
 "nbformat_minor": 2
}
